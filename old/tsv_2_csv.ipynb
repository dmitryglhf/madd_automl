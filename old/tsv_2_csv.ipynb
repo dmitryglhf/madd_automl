{
 "cells": [
  {
   "cell_type": "code",
   "execution_count": 3,
   "id": "466c40cd",
   "metadata": {},
   "outputs": [],
   "source": [
    "import pandas as pd\n",
    "\n",
    "df = pd.read_csv(r'./data/init_data/cancer.csv')"
   ]
  },
  {
   "cell_type": "code",
   "execution_count": 4,
   "id": "a81c9730",
   "metadata": {},
   "outputs": [
    {
     "data": {
      "text/html": [
       "<div>\n",
       "<style scoped>\n",
       "    .dataframe tbody tr th:only-of-type {\n",
       "        vertical-align: middle;\n",
       "    }\n",
       "\n",
       "    .dataframe tbody tr th {\n",
       "        vertical-align: top;\n",
       "    }\n",
       "\n",
       "    .dataframe thead th {\n",
       "        text-align: right;\n",
       "    }\n",
       "</style>\n",
       "<table border=\"1\" class=\"dataframe\">\n",
       "  <thead>\n",
       "    <tr style=\"text-align: right;\">\n",
       "      <th></th>\n",
       "      <th>smiles</th>\n",
       "      <th>IC50</th>\n",
       "      <th>lgIC50</th>\n",
       "    </tr>\n",
       "  </thead>\n",
       "  <tbody>\n",
       "    <tr>\n",
       "      <th>0</th>\n",
       "      <td>CN1CCC[C@H]1COc1nc(N2CCN([C@@H](CC#N)C2)C(=O)C...</td>\n",
       "      <td>0.49</td>\n",
       "      <td>-0.309804</td>\n",
       "    </tr>\n",
       "    <tr>\n",
       "      <th>1</th>\n",
       "      <td>Fc1c(ncc2c(nc(OCC3(CN4CCCC4)CC3)nc12)N1CCN([C@...</td>\n",
       "      <td>0.59</td>\n",
       "      <td>-0.229148</td>\n",
       "    </tr>\n",
       "    <tr>\n",
       "      <th>2</th>\n",
       "      <td>F[C@H]1CN2CCC[C@@]2(COc2nc(N3CCN([C@@H](CC#N)C...</td>\n",
       "      <td>0.59</td>\n",
       "      <td>-0.229148</td>\n",
       "    </tr>\n",
       "    <tr>\n",
       "      <th>3</th>\n",
       "      <td>CN1CCC[C@H]1COc1nc(N2CCN([C@@H](CC#N)C2)C(=O)C...</td>\n",
       "      <td>0.71</td>\n",
       "      <td>-0.148742</td>\n",
       "    </tr>\n",
       "    <tr>\n",
       "      <th>4</th>\n",
       "      <td>F[C@H]1CN2CCC[C@@]2(COc2nc(N3CCN([C@@H](CC#N)C...</td>\n",
       "      <td>0.71</td>\n",
       "      <td>-0.148742</td>\n",
       "    </tr>\n",
       "  </tbody>\n",
       "</table>\n",
       "</div>"
      ],
      "text/plain": [
       "                                              smiles  IC50    lgIC50\n",
       "0  CN1CCC[C@H]1COc1nc(N2CCN([C@@H](CC#N)C2)C(=O)C...  0.49 -0.309804\n",
       "1  Fc1c(ncc2c(nc(OCC3(CN4CCCC4)CC3)nc12)N1CCN([C@...  0.59 -0.229148\n",
       "2  F[C@H]1CN2CCC[C@@]2(COc2nc(N3CCN([C@@H](CC#N)C...  0.59 -0.229148\n",
       "3  CN1CCC[C@H]1COc1nc(N2CCN([C@@H](CC#N)C2)C(=O)C...  0.71 -0.148742\n",
       "4  F[C@H]1CN2CCC[C@@]2(COc2nc(N3CCN([C@@H](CC#N)C...  0.71 -0.148742"
      ]
     },
     "execution_count": 4,
     "metadata": {},
     "output_type": "execute_result"
    }
   ],
   "source": [
    "df.head()"
   ]
  },
  {
   "cell_type": "code",
   "execution_count": 5,
   "id": "9aa2c081",
   "metadata": {},
   "outputs": [],
   "source": [
    "df['IC50_binary'] = (df['lgIC50'] < 2.35).astype(int)"
   ]
  },
  {
   "cell_type": "code",
   "execution_count": 7,
   "id": "9428bfdc",
   "metadata": {},
   "outputs": [
    {
     "data": {
      "text/html": [
       "<div>\n",
       "<style scoped>\n",
       "    .dataframe tbody tr th:only-of-type {\n",
       "        vertical-align: middle;\n",
       "    }\n",
       "\n",
       "    .dataframe tbody tr th {\n",
       "        vertical-align: top;\n",
       "    }\n",
       "\n",
       "    .dataframe thead th {\n",
       "        text-align: right;\n",
       "    }\n",
       "</style>\n",
       "<table border=\"1\" class=\"dataframe\">\n",
       "  <thead>\n",
       "    <tr style=\"text-align: right;\">\n",
       "      <th></th>\n",
       "      <th>smiles</th>\n",
       "      <th>IC50</th>\n",
       "      <th>lgIC50</th>\n",
       "      <th>IC50_binary</th>\n",
       "    </tr>\n",
       "  </thead>\n",
       "  <tbody>\n",
       "    <tr>\n",
       "      <th>0</th>\n",
       "      <td>CN1CCC[C@H]1COc1nc(N2CCN([C@@H](CC#N)C2)C(=O)C...</td>\n",
       "      <td>0.49</td>\n",
       "      <td>-0.309804</td>\n",
       "      <td>1</td>\n",
       "    </tr>\n",
       "    <tr>\n",
       "      <th>1</th>\n",
       "      <td>Fc1c(ncc2c(nc(OCC3(CN4CCCC4)CC3)nc12)N1CCN([C@...</td>\n",
       "      <td>0.59</td>\n",
       "      <td>-0.229148</td>\n",
       "      <td>1</td>\n",
       "    </tr>\n",
       "    <tr>\n",
       "      <th>2</th>\n",
       "      <td>F[C@H]1CN2CCC[C@@]2(COc2nc(N3CCN([C@@H](CC#N)C...</td>\n",
       "      <td>0.59</td>\n",
       "      <td>-0.229148</td>\n",
       "      <td>1</td>\n",
       "    </tr>\n",
       "    <tr>\n",
       "      <th>3</th>\n",
       "      <td>CN1CCC[C@H]1COc1nc(N2CCN([C@@H](CC#N)C2)C(=O)C...</td>\n",
       "      <td>0.71</td>\n",
       "      <td>-0.148742</td>\n",
       "      <td>1</td>\n",
       "    </tr>\n",
       "    <tr>\n",
       "      <th>4</th>\n",
       "      <td>F[C@H]1CN2CCC[C@@]2(COc2nc(N3CCN([C@@H](CC#N)C...</td>\n",
       "      <td>0.71</td>\n",
       "      <td>-0.148742</td>\n",
       "      <td>1</td>\n",
       "    </tr>\n",
       "    <tr>\n",
       "      <th>...</th>\n",
       "      <td>...</td>\n",
       "      <td>...</td>\n",
       "      <td>...</td>\n",
       "      <td>...</td>\n",
       "    </tr>\n",
       "    <tr>\n",
       "      <th>918</th>\n",
       "      <td>CO[C@@H](C)c1ncccc1-c1c2CC(C)(C)COC(=O)[C@@H]3...</td>\n",
       "      <td>55.00</td>\n",
       "      <td>1.740363</td>\n",
       "      <td>1</td>\n",
       "    </tr>\n",
       "    <tr>\n",
       "      <th>919</th>\n",
       "      <td>CO[C@@H](C)c1ncccc1-c1c2CC(C)(C)COC(=O)[C@@H]3...</td>\n",
       "      <td>55.00</td>\n",
       "      <td>1.740363</td>\n",
       "      <td>1</td>\n",
       "    </tr>\n",
       "    <tr>\n",
       "      <th>920</th>\n",
       "      <td>CCn1c(c2CC(C)(C)COC(=O)[C@@H]3CCCN(N3)C(=O)[C@...</td>\n",
       "      <td>55.00</td>\n",
       "      <td>1.740363</td>\n",
       "      <td>1</td>\n",
       "    </tr>\n",
       "    <tr>\n",
       "      <th>921</th>\n",
       "      <td>CCn1c(c2CC(C)(C)COC(=O)[C@@H]3CCCN(N3)C(=O)[C@...</td>\n",
       "      <td>55.00</td>\n",
       "      <td>1.740363</td>\n",
       "      <td>1</td>\n",
       "    </tr>\n",
       "    <tr>\n",
       "      <th>922</th>\n",
       "      <td>CCn1c(c2CC(C)(C)COC(=O)[C@@H]3CCCN(N3)C(=O)[C@...</td>\n",
       "      <td>55.00</td>\n",
       "      <td>1.740363</td>\n",
       "      <td>1</td>\n",
       "    </tr>\n",
       "  </tbody>\n",
       "</table>\n",
       "<p>923 rows × 4 columns</p>\n",
       "</div>"
      ],
      "text/plain": [
       "                                                smiles   IC50    lgIC50  \\\n",
       "0    CN1CCC[C@H]1COc1nc(N2CCN([C@@H](CC#N)C2)C(=O)C...   0.49 -0.309804   \n",
       "1    Fc1c(ncc2c(nc(OCC3(CN4CCCC4)CC3)nc12)N1CCN([C@...   0.59 -0.229148   \n",
       "2    F[C@H]1CN2CCC[C@@]2(COc2nc(N3CCN([C@@H](CC#N)C...   0.59 -0.229148   \n",
       "3    CN1CCC[C@H]1COc1nc(N2CCN([C@@H](CC#N)C2)C(=O)C...   0.71 -0.148742   \n",
       "4    F[C@H]1CN2CCC[C@@]2(COc2nc(N3CCN([C@@H](CC#N)C...   0.71 -0.148742   \n",
       "..                                                 ...    ...       ...   \n",
       "918  CO[C@@H](C)c1ncccc1-c1c2CC(C)(C)COC(=O)[C@@H]3...  55.00  1.740363   \n",
       "919  CO[C@@H](C)c1ncccc1-c1c2CC(C)(C)COC(=O)[C@@H]3...  55.00  1.740363   \n",
       "920  CCn1c(c2CC(C)(C)COC(=O)[C@@H]3CCCN(N3)C(=O)[C@...  55.00  1.740363   \n",
       "921  CCn1c(c2CC(C)(C)COC(=O)[C@@H]3CCCN(N3)C(=O)[C@...  55.00  1.740363   \n",
       "922  CCn1c(c2CC(C)(C)COC(=O)[C@@H]3CCCN(N3)C(=O)[C@...  55.00  1.740363   \n",
       "\n",
       "     IC50_binary  \n",
       "0              1  \n",
       "1              1  \n",
       "2              1  \n",
       "3              1  \n",
       "4              1  \n",
       "..           ...  \n",
       "918            1  \n",
       "919            1  \n",
       "920            1  \n",
       "921            1  \n",
       "922            1  \n",
       "\n",
       "[923 rows x 4 columns]"
      ]
     },
     "execution_count": 7,
     "metadata": {},
     "output_type": "execute_result"
    }
   ],
   "source": [
    "df"
   ]
  },
  {
   "cell_type": "code",
   "execution_count": 10,
   "id": "8d8451b9",
   "metadata": {},
   "outputs": [
    {
     "data": {
      "text/plain": [
       "IC50_binary\n",
       "0    0.520043\n",
       "1    0.479957\n",
       "Name: proportion, dtype: float64"
      ]
     },
     "execution_count": 10,
     "metadata": {},
     "output_type": "execute_result"
    }
   ],
   "source": [
    "df['IC50_binary'].value_counts(normalize=True)"
   ]
  },
  {
   "cell_type": "code",
   "execution_count": 11,
   "id": "8ed1192f",
   "metadata": {},
   "outputs": [],
   "source": [
    "df = df.drop(columns=['IC50', 'lgIC50'])"
   ]
  },
  {
   "cell_type": "code",
   "execution_count": 12,
   "id": "4ea43a69",
   "metadata": {},
   "outputs": [
    {
     "data": {
      "text/html": [
       "<div>\n",
       "<style scoped>\n",
       "    .dataframe tbody tr th:only-of-type {\n",
       "        vertical-align: middle;\n",
       "    }\n",
       "\n",
       "    .dataframe tbody tr th {\n",
       "        vertical-align: top;\n",
       "    }\n",
       "\n",
       "    .dataframe thead th {\n",
       "        text-align: right;\n",
       "    }\n",
       "</style>\n",
       "<table border=\"1\" class=\"dataframe\">\n",
       "  <thead>\n",
       "    <tr style=\"text-align: right;\">\n",
       "      <th></th>\n",
       "      <th>smiles</th>\n",
       "      <th>IC50_binary</th>\n",
       "    </tr>\n",
       "  </thead>\n",
       "  <tbody>\n",
       "    <tr>\n",
       "      <th>0</th>\n",
       "      <td>CN1CCC[C@H]1COc1nc(N2CCN([C@@H](CC#N)C2)C(=O)C...</td>\n",
       "      <td>1</td>\n",
       "    </tr>\n",
       "    <tr>\n",
       "      <th>1</th>\n",
       "      <td>Fc1c(ncc2c(nc(OCC3(CN4CCCC4)CC3)nc12)N1CCN([C@...</td>\n",
       "      <td>1</td>\n",
       "    </tr>\n",
       "    <tr>\n",
       "      <th>2</th>\n",
       "      <td>F[C@H]1CN2CCC[C@@]2(COc2nc(N3CCN([C@@H](CC#N)C...</td>\n",
       "      <td>1</td>\n",
       "    </tr>\n",
       "    <tr>\n",
       "      <th>3</th>\n",
       "      <td>CN1CCC[C@H]1COc1nc(N2CCN([C@@H](CC#N)C2)C(=O)C...</td>\n",
       "      <td>1</td>\n",
       "    </tr>\n",
       "    <tr>\n",
       "      <th>4</th>\n",
       "      <td>F[C@H]1CN2CCC[C@@]2(COc2nc(N3CCN([C@@H](CC#N)C...</td>\n",
       "      <td>1</td>\n",
       "    </tr>\n",
       "  </tbody>\n",
       "</table>\n",
       "</div>"
      ],
      "text/plain": [
       "                                              smiles  IC50_binary\n",
       "0  CN1CCC[C@H]1COc1nc(N2CCN([C@@H](CC#N)C2)C(=O)C...            1\n",
       "1  Fc1c(ncc2c(nc(OCC3(CN4CCCC4)CC3)nc12)N1CCN([C@...            1\n",
       "2  F[C@H]1CN2CCC[C@@]2(COc2nc(N3CCN([C@@H](CC#N)C...            1\n",
       "3  CN1CCC[C@H]1COc1nc(N2CCN([C@@H](CC#N)C2)C(=O)C...            1\n",
       "4  F[C@H]1CN2CCC[C@@]2(COc2nc(N3CCN([C@@H](CC#N)C...            1"
      ]
     },
     "execution_count": 12,
     "metadata": {},
     "output_type": "execute_result"
    }
   ],
   "source": [
    "df.head()"
   ]
  },
  {
   "cell_type": "code",
   "execution_count": 13,
   "id": "71ae5ba2",
   "metadata": {},
   "outputs": [],
   "source": [
    "df.to_csv('cancer_clear.csv', index=False)"
   ]
  },
  {
   "cell_type": "code",
   "execution_count": null,
   "id": "4f1c27e1",
   "metadata": {},
   "outputs": [],
   "source": []
  }
 ],
 "metadata": {
  "kernelspec": {
   "display_name": "env",
   "language": "python",
   "name": "python3"
  },
  "language_info": {
   "codemirror_mode": {
    "name": "ipython",
    "version": 3
   },
   "file_extension": ".py",
   "mimetype": "text/x-python",
   "name": "python",
   "nbconvert_exporter": "python",
   "pygments_lexer": "ipython3",
   "version": "3.10.11"
  }
 },
 "nbformat": 4,
 "nbformat_minor": 5
}
