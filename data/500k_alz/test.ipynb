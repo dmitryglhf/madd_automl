{
 "cells": [
  {
   "cell_type": "code",
   "execution_count": 1,
   "id": "4f1c27e1",
   "metadata": {},
   "outputs": [],
   "source": [
    "import pandas as pd"
   ]
  },
  {
   "cell_type": "code",
   "execution_count": 2,
   "id": "a16aca3e",
   "metadata": {},
   "outputs": [],
   "source": [
    "data = [\n",
    "    r\"C:\\Users\\user\\Desktop\\madd_automl\\data\\500k_alz\\data_4j1r.csv\"\n",
    "]"
   ]
  },
  {
   "cell_type": "code",
   "execution_count": 10,
   "id": "67d4fcfc",
   "metadata": {},
   "outputs": [],
   "source": [
    "df = pd.read_csv(data[0])\n",
    "df.drop(columns=['Unnamed: 0', 'Unnamed: 0.1', 'QED', 'Synthetic Accessibility', 'PAINS', 'SureChEMBL', 'Glaxo', 'Brenk', 'IC50'], inplace=True)"
   ]
  },
  {
   "cell_type": "code",
   "execution_count": 11,
   "id": "35727293",
   "metadata": {},
   "outputs": [
    {
     "data": {
      "text/html": [
       "<div>\n",
       "<style scoped>\n",
       "    .dataframe tbody tr th:only-of-type {\n",
       "        vertical-align: middle;\n",
       "    }\n",
       "\n",
       "    .dataframe tbody tr th {\n",
       "        vertical-align: top;\n",
       "    }\n",
       "\n",
       "    .dataframe thead th {\n",
       "        text-align: right;\n",
       "    }\n",
       "</style>\n",
       "<table border=\"1\" class=\"dataframe\">\n",
       "  <thead>\n",
       "    <tr style=\"text-align: right;\">\n",
       "      <th></th>\n",
       "      <th>docking_score</th>\n",
       "      <th>canonical_smiles</th>\n",
       "    </tr>\n",
       "  </thead>\n",
       "  <tbody>\n",
       "    <tr>\n",
       "      <th>0</th>\n",
       "      <td>-8.3</td>\n",
       "      <td>Fc1cc(F)c2ccc(Oc3cncc4nnc(-c5ccc(OC(F)F)cc5)n3...</td>\n",
       "    </tr>\n",
       "    <tr>\n",
       "      <th>1</th>\n",
       "      <td>-4.5</td>\n",
       "      <td>CN1/C(=C\\C=N\\NC(=O)c2ccccc2Br)C(C)(C)c2ccccc21</td>\n",
       "    </tr>\n",
       "    <tr>\n",
       "      <th>2</th>\n",
       "      <td>-6.1</td>\n",
       "      <td>Sc1nnc(-c2cccnc2)n1/N=C/c1cccs1</td>\n",
       "    </tr>\n",
       "    <tr>\n",
       "      <th>3</th>\n",
       "      <td>-4.7</td>\n",
       "      <td>Cc1c(Br)c(C(N)=O)nn1C</td>\n",
       "    </tr>\n",
       "    <tr>\n",
       "      <th>4</th>\n",
       "      <td>-5.7</td>\n",
       "      <td>O=C(N/N=C/c1ccoc1)c1ccccc1O</td>\n",
       "    </tr>\n",
       "    <tr>\n",
       "      <th>...</th>\n",
       "      <td>...</td>\n",
       "      <td>...</td>\n",
       "    </tr>\n",
       "    <tr>\n",
       "      <th>441482</th>\n",
       "      <td>-6.8</td>\n",
       "      <td>CC1(C)OC1COc1c2c(cc3oc(=O)ccc13)OCO2</td>\n",
       "    </tr>\n",
       "    <tr>\n",
       "      <th>441483</th>\n",
       "      <td>-6.7</td>\n",
       "      <td>Cc1ccc(/N=N/c2c(O)ccc3cccc(N)c23)cc1S(N)(=O)=O</td>\n",
       "    </tr>\n",
       "    <tr>\n",
       "      <th>441484</th>\n",
       "      <td>-8.7</td>\n",
       "      <td>Cc1ncc(-c2ccc3[nH]nc(-c4nc5c(-c6cccc(F)c6)cccc...</td>\n",
       "    </tr>\n",
       "    <tr>\n",
       "      <th>441485</th>\n",
       "      <td>-6.3</td>\n",
       "      <td>COc1ccc(C2=NN(Cc3ccc(CN4CCCCC4)cc3)C(=O)[C@@H]...</td>\n",
       "    </tr>\n",
       "    <tr>\n",
       "      <th>441486</th>\n",
       "      <td>-5.7</td>\n",
       "      <td>CC(C)NCC(=O)c1ccc(O)c(O)c1</td>\n",
       "    </tr>\n",
       "  </tbody>\n",
       "</table>\n",
       "<p>441487 rows × 2 columns</p>\n",
       "</div>"
      ],
      "text/plain": [
       "        docking_score                                   canonical_smiles\n",
       "0                -8.3  Fc1cc(F)c2ccc(Oc3cncc4nnc(-c5ccc(OC(F)F)cc5)n3...\n",
       "1                -4.5     CN1/C(=C\\C=N\\NC(=O)c2ccccc2Br)C(C)(C)c2ccccc21\n",
       "2                -6.1                    Sc1nnc(-c2cccnc2)n1/N=C/c1cccs1\n",
       "3                -4.7                              Cc1c(Br)c(C(N)=O)nn1C\n",
       "4                -5.7                        O=C(N/N=C/c1ccoc1)c1ccccc1O\n",
       "...               ...                                                ...\n",
       "441482           -6.8               CC1(C)OC1COc1c2c(cc3oc(=O)ccc13)OCO2\n",
       "441483           -6.7     Cc1ccc(/N=N/c2c(O)ccc3cccc(N)c23)cc1S(N)(=O)=O\n",
       "441484           -8.7  Cc1ncc(-c2ccc3[nH]nc(-c4nc5c(-c6cccc(F)c6)cccc...\n",
       "441485           -6.3  COc1ccc(C2=NN(Cc3ccc(CN4CCCCC4)cc3)C(=O)[C@@H]...\n",
       "441486           -5.7                         CC(C)NCC(=O)c1ccc(O)c(O)c1\n",
       "\n",
       "[441487 rows x 2 columns]"
      ]
     },
     "execution_count": 11,
     "metadata": {},
     "output_type": "execute_result"
    }
   ],
   "source": [
    "df"
   ]
  },
  {
   "cell_type": "code",
   "execution_count": 12,
   "id": "583d5159",
   "metadata": {},
   "outputs": [],
   "source": [
    "df.to_csv('alc_ds_500_processed.csv', index=False)"
   ]
  },
  {
   "cell_type": "code",
   "execution_count": null,
   "id": "d0962014",
   "metadata": {},
   "outputs": [],
   "source": []
  }
 ],
 "metadata": {
  "kernelspec": {
   "display_name": "env",
   "language": "python",
   "name": "python3"
  },
  "language_info": {
   "codemirror_mode": {
    "name": "ipython",
    "version": 3
   },
   "file_extension": ".py",
   "mimetype": "text/x-python",
   "name": "python",
   "nbconvert_exporter": "python",
   "pygments_lexer": "ipython3",
   "version": "3.10.11"
  }
 },
 "nbformat": 4,
 "nbformat_minor": 5
}
